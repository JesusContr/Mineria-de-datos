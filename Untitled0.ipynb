{
  "nbformat": 4,
  "nbformat_minor": 0,
  "metadata": {
    "colab": {
      "provenance": [],
      "authorship_tag": "ABX9TyMLhFy/36kCWGa+Gs+g85Tv",
      "include_colab_link": true
    },
    "kernelspec": {
      "name": "python3",
      "display_name": "Python 3"
    },
    "language_info": {
      "name": "python"
    }
  },
  "cells": [
    {
      "cell_type": "markdown",
      "metadata": {
        "id": "view-in-github",
        "colab_type": "text"
      },
      "source": [
        "<a href=\"https://colab.research.google.com/github/JesusContr/InteligenciaArtificial/blob/main/Untitled0.ipynb\" target=\"_parent\"><img src=\"https://colab.research.google.com/assets/colab-badge.svg\" alt=\"Open In Colab\"/></a>"
      ]
    },
    {
      "cell_type": "code",
      "execution_count": 1,
      "metadata": {
        "colab": {
          "base_uri": "https://localhost:8080/"
        },
        "id": "U5e-qjLOw1-p",
        "outputId": "13810b6c-9c88-463d-d899-3926cd1a3042"
      },
      "outputs": [
        {
          "output_type": "stream",
          "name": "stdout",
          "text": [
            "                Name Nationality National_Position  National_Kit  \\\n",
            "0  Cristiano Ronaldo    Portugal                LS           7.0   \n",
            "1       Lionel Messi   Argentina                RW          10.0   \n",
            "2             Neymar      Brazil                LW          10.0   \n",
            "3        Luis Suárez     Uruguay                LS           9.0   \n",
            "4       Manuel Neuer     Germany                GK           1.0   \n",
            "\n",
            "           Club Club_Position  Club_Kit Club_Joining  Contract_Expiry  Rating  \\\n",
            "0   Real Madrid            LW       7.0   07/01/2009           2021.0      94   \n",
            "1  FC Barcelona            RW      10.0   07/01/2004           2018.0      93   \n",
            "2  FC Barcelona            LW      11.0   07/01/2013           2021.0      92   \n",
            "3  FC Barcelona            ST       9.0   07/11/2014           2021.0      92   \n",
            "4     FC Bayern            GK       1.0   07/01/2011           2021.0      92   \n",
            "\n",
            "   ... Long_Shots Curve Freekick_Accuracy Penalties  Volleys GK_Positioning  \\\n",
            "0  ...         90    81                76        85       88             14   \n",
            "1  ...         88    89                90        74       85             14   \n",
            "2  ...         77    79                84        81       83             15   \n",
            "3  ...         86    86                84        85       88             33   \n",
            "4  ...         16    14                11        47       11             91   \n",
            "\n",
            "  GK_Diving  GK_Kicking  GK_Handling  GK_Reflexes  \n",
            "0         7          15           11           11  \n",
            "1         6          15           11            8  \n",
            "2         9          15            9           11  \n",
            "3        27          31           25           37  \n",
            "4        89          95           90           89  \n",
            "\n",
            "[5 rows x 53 columns]\n"
          ]
        }
      ],
      "source": [
        "import pandas as pd\n",
        "url= 'https://raw.githubusercontent.com/JesusContr/InteligenciaArtificial/main/FullData.csv'\n",
        "df= pd.read_csv(url)\n",
        "print(df.head(5))"
      ]
    }
  ]
}