{
  "nbformat": 4,
  "nbformat_minor": 0,
  "metadata": {
    "colab": {
      "provenance": [],
      "authorship_tag": "ABX9TyN2llt7V/I0mM37TG9x44+v"
    },
    "kernelspec": {
      "name": "python3",
      "display_name": "Python 3"
    },
    "language_info": {
      "name": "python"
    }
  },
  "cells": [
    {
      "cell_type": "code",
      "execution_count": null,
      "metadata": {
        "id": "FStzG8JFJoDh"
      },
      "outputs": [],
      "source": [
        "import pandas as pd\n",
        "import matplotlib.pyplot as plt\n",
        "\n",
        "url= 'https://raw.githubusercontent.com/JesusContr/Mineria-de-datos/main/monthly-milk-production.csv'\n",
        "df= pd.read_csv(url)\n",
        "\n",
        "\n",
        "\n",
        "print(df.head)\n",
        "print('-------------------------------------------------------------------------------\\n')\n",
        "\n",
        "plt.figure(figsize=(12, 6))\n",
        "plt.plot('Monthly milk production ')\n",
        "plt.xlabel('Periodos', fontsize=14)\n",
        "plt.ylabel('Produccion', fontsize=14)\n",
        "plt.title('Plot Inicial')\n",
        "plt.show()\n",
        "\n",
        "df['year'] = df['Month']\n",
        "print(df)\n",
        "print('-------------------------------------------------------------------------------\\n')\n",
        "\n",
        "anual = df.groupby(by=['year']).sum()\n",
        "print(anual)\n",
        "print('-------------------------------------------------------------------------------\\n')\n",
        "\n",
        "plt.figure(figsize=(12, 6))\n",
        "plt.plot('Monthly milk production')\n",
        "plt.xlabel('Periodos', fontsize=14)\n",
        "plt.ylabel('Produccion', fontsize=14)\n",
        "plt.title('Plot Anual')\n",
        "plt.show()\n",
        "\n",
        "anual['MA'] = anual['Monthly milk production'].rolling(window=3).mean().shift(1)\n",
        "print(anual)\n",
        "print('-------------------------------------------------------------------------------\\n')\n",
        "\n",
        "df = df[df.loc[: , 'Monthly milk production'] !='1975-11']\n",
        "\n",
        "df.loc[:, 'Monthly milk production'] =df.loc[: , 'Monthly milk production'].apply(lambda x : int(x) *2)\n",
        "\n",
        "anual.loc[len(anual)] = [int(anual.iloc[len(anual)-1][0])+1,0,0]\n",
        "print(anual)\n",
        "print('-------------------------------------------------------------------------------\\n')\n",
        "\n",
        "\n",
        "anual['MA'] = anual['Monthly milk production'].rolling(window=3).mean().shift(1)\n",
        "anual['year'] = anual['year'].astype(int)\n",
        "anual['Monthly milk production'] = anual['Monthly milk production'].astype(float)\n",
        "anual['MA'] = anual['MA'].astype(float)\n",
        "print(anual)\n",
        "print('-------------------------------------------------------------------------------\\n')\n",
        "\n",
        "plt.figure(figsize=(12, 6))\n",
        "plt.plot(anual['year'][:-1], anual['Monthly milk production'][:-1], '-o', color = 'red', label = 'data')\n",
        "plt.plot(anual['year'], anual['MA'], '-o', color = 'blue', label = 'forecast')\n",
        "plt.xlabel('Años', fontsize=14)\n",
        "plt.ylabel('Produccion', fontsize=14)\n",
        "plt.legend(loc = 'best')\n",
        "plt.show()\n",
        "\n"
      ]
    }
  ]
}