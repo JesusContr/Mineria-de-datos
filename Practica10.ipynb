{
  "nbformat": 4,
  "nbformat_minor": 0,
  "metadata": {
    "colab": {
      "provenance": [],
      "authorship_tag": "ABX9TyMzYJMfBaAVeisgMcEevByN",
      "include_colab_link": true
    },
    "kernelspec": {
      "name": "python3",
      "display_name": "Python 3"
    },
    "language_info": {
      "name": "python"
    }
  },
  "cells": [
    {
      "cell_type": "markdown",
      "metadata": {
        "id": "view-in-github",
        "colab_type": "text"
      },
      "source": [
        "<a href=\"https://colab.research.google.com/github/JesusContr/Mineria-de-datos/blob/main/Practica10.ipynb\" target=\"_parent\"><img src=\"https://colab.research.google.com/assets/colab-badge.svg\" alt=\"Open In Colab\"/></a>"
      ]
    },
    {
      "cell_type": "code",
      "execution_count": null,
      "metadata": {
        "id": "9ZlPuhDY1N3Y"
      },
      "outputs": [],
      "source": [
        "import pandas as pd\n",
        "import nltk\n",
        "from nltk.corpus import stopwords\n",
        "from sklearn.feature_extraction.text import CountVectorizer\n",
        "\n",
        "url= 'https://raw.githubusercontent.com/JesusContr/Mineria-de-datos/main/FullData.csv'\n",
        "df= pd.read_csv(url)\n",
        "\n",
        "\n",
        "text_df = df['Club']\n",
        "\n",
        "\n",
        "nltk.download('stopwords')\n",
        "stop_words = set(stopwords.words('english'))\n",
        "vectorizer = CountVectorizer(stop_words=stop_words)\n",
        "\n",
        "vocab=vectorizer.get_feature_names()\n",
        "\n",
        "\n",
        "word_freq = X.toarray().sum(axis=0)\n",
        "\n",
        "word_freq_df = pd.DataFrame({'Word': vocab, 'Frequency': word_freq})\n",
        "sorted_word_freq_df = word_freq_df.sort_values(by='Frequency', ascending=False)\n",
        "print(sorted_word_freq_df.head(15))"
      ]
    }
  ]
}